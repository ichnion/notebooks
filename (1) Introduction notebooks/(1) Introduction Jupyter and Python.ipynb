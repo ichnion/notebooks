{
 "cells": [
  {
   "cell_type": "markdown",
   "id": "bc809dc9",
   "metadata": {},
   "source": [
    "# Introduction Jupyter and Python"
   ]
  },
  {
   "cell_type": "markdown",
   "id": "a1fb3fe2",
   "metadata": {},
   "source": [
    "In this tutorial, you will experiment different algorithms and situations to familiarize yourself with the use of the Jupyter Notebook and Python. This is the first step for this lesson.\n",
    "\n",
    "このチュートリアルでは、Jupyter NotebookとPythonの使い方に慣れるために、さまざまなアルゴリズムや利用状況を検証します。これは、このレッスンの最初のステップです。"
   ]
  },
  {
   "cell_type": "markdown",
   "id": "da2453ab",
   "metadata": {},
   "source": [
    "## Fibonacci numbers / フィボナッチ数\n",
    "\n",
    "Let's use this problem to see the basics of Python syntax.\n",
    "\n",
    "The Fibonacci numbers are the numbers in the following integer sequence.\n",
    "0, 1, 1, 2, 3, 5, 8, 13, 21, 34, 55, 89, 144, ……..\n",
    "In mathematical terms, the sequence Fn of Fibonacci numbers is defined by the recurrence relation :\n",
    "\n",
    "    Fn = Fn-1 + Fn-2\n",
    "    \n",
    "with seed values F0 = 0 and F1 = 1.\n",
    "\n",
    "この問題を使って、Pythonの構文の基本を確認してみましょう。\n",
    "\n",
    "フィボナッチ数とは、次のような整数の並びの数字のことです。\n",
    "0, 1, 1, 2, 3, 5, 8, 13, 21, 34, 55, 89, 144, ……..\n",
    "数学用語では、フィボナッチ数列Fnは、漸化式で定義されます。\n",
    "\n",
    "    Fn = Fn-1 + Fn-2\n",
    "\n",
    "シード値は F0 = 0、F1 = 1としています。"
   ]
  },
  {
   "cell_type": "code",
   "execution_count": 1,
   "id": "e7aeb2a8",
   "metadata": {},
   "outputs": [],
   "source": [
    "def fibonacci(n) : \n",
    "    if n<0:\n",
    "        print(\"The input needs to be positive\")\n",
    "    elif n==0:\n",
    "        return 0\n",
    "    elif n==1:\n",
    "        return 1\n",
    "    else:\n",
    "        return fibonacci(n-1) + fibonacci(n-2)\n",
    "    \n"
   ]
  },
  {
   "cell_type": "markdown",
   "id": "feab83ab",
   "metadata": {},
   "source": [
    "Here we create a function named `fibonacci` taking the index we want as argument `(n)`. We use condition loops `if`,`elif` and `else` to manage the different cases we could have. \n",
    "Our function is what we call a **recursive method**: it uses itself to run and find the answer. It is very useful to shorten the code.\n",
    "Let's try the code in different situations:\n",
    "\n",
    "ここでは、欲しいインデックスを引数 `(n)` として、`fibonacci` という名前の関数を作成します。条件ループの `if`, `elif`, `else` を使って、様々なケースを管理することができます。\n",
    "この関数は **再帰的メソッド** と呼ばれるもので、実行と答え合わせに自分自身を使用します。これはコードを短くするのにとても便利です。\n",
    "では、このコードをいろいろな状況で試してみましょう:"
   ]
  },
  {
   "cell_type": "code",
   "execution_count": 2,
   "id": "f6e04970",
   "metadata": {},
   "outputs": [
    {
     "name": "stdout",
     "output_type": "stream",
     "text": [
      "The input needs to be positive\n",
      "None\n"
     ]
    }
   ],
   "source": [
    "print(fibonacci(-5))"
   ]
  },
  {
   "cell_type": "markdown",
   "id": "d466b4f0",
   "metadata": {},
   "source": [
    "As the argument `-5`is negative, we can not calculate the number.\n",
    "\n",
    "引数 `-5` は負の値です。そのため、数値を計算することができません。"
   ]
  },
  {
   "cell_type": "code",
   "execution_count": 3,
   "id": "3b9bd18e",
   "metadata": {},
   "outputs": [
    {
     "name": "stdout",
     "output_type": "stream",
     "text": [
      "0\n",
      "1\n",
      "21\n"
     ]
    }
   ],
   "source": [
    "print(fibonacci(0))\n",
    "print(fibonacci(1))\n",
    "print(fibonacci(8))"
   ]
  },
  {
   "cell_type": "markdown",
   "id": "236070c4",
   "metadata": {},
   "source": [
    "We can see that the loops work well, and that we have the good outputs for each input. For `n=8`, we are looking for `f8` which is the 9th number of Fibonacci (we start at n=0), that is 21 so the code is working. \n",
    "\n",
    "ループがうまく機能していること、各入力に対して良い出力が得られていることがわかります。`n=8`の場合、フィボナッチの9番目の数である`f8`を探しています（n=0から始めています）、つまり21なのでコードは機能しています。"
   ]
  },
  {
   "cell_type": "markdown",
   "id": "f94ca897",
   "metadata": {},
   "source": [
    "## Calculate the factorial of a number / 階乗の計算\n",
    "\n",
    "Here is a naive code to calculate the factorial of a number: \n",
    "\n",
    "以下は、ある数の階乗を計算する簡素なコードです。"
   ]
  },
  {
   "cell_type": "code",
   "execution_count": 4,
   "id": "bda47191",
   "metadata": {},
   "outputs": [],
   "source": [
    "def factorial(nb):\n",
    "    x=1\n",
    "    if isinstance(nb, int):\n",
    "        if nb==0:\n",
    "            return 1\n",
    "        else:\n",
    "            for i in range (1,nb+1):\n",
    "                x=x*i\n",
    "            return x\n",
    "    else:\n",
    "        print(\"The input needs to be an Integer\")\n"
   ]
  },
  {
   "cell_type": "markdown",
   "id": "3ce8fe43",
   "metadata": {},
   "source": [
    "We create a function `factorial`. In this function we first check if the argument `nb` is an integer with the `isinstance()` method, which returns a **boolean** (True or False). If it is `True` then we enter in the next loops: `if` or `else`and `for`.\n",
    "We manage the case where our argument is not an integer with the last `else` loop. Let's see if it works:\n",
    "\n",
    "関数 `factorial` を作成します。この関数では、まず `isinstance()` メソッドで引数 `nb` が整数であるかどうかをチェックし、**boolean** (True または False) を返します。もし `True` ならば、次のループ: `if` または `else` と `for` に入ります。\n",
    "引数が整数でない場合は、最後の `else` ループで管理します。うまくいくかどうか見てみましょう。"
   ]
  },
  {
   "cell_type": "code",
   "execution_count": 5,
   "id": "dde34803",
   "metadata": {},
   "outputs": [
    {
     "name": "stdout",
     "output_type": "stream",
     "text": [
      "The input needs to be an Integer\n",
      "None\n"
     ]
    }
   ],
   "source": [
    "print (factorial(3.4))"
   ]
  },
  {
   "cell_type": "code",
   "execution_count": 6,
   "id": "24f3e46d",
   "metadata": {},
   "outputs": [
    {
     "name": "stdout",
     "output_type": "stream",
     "text": [
      "24\n"
     ]
    }
   ],
   "source": [
    "print (factorial(4))"
   ]
  },
  {
   "cell_type": "markdown",
   "id": "0e82cc5d",
   "metadata": {},
   "source": [
    "### Exercice / 実践\n",
    "\n",
    "In the space below, create a **recursive** function that calculates the factorial of an integer.\n",
    "\n",
    "以下のスペースに、整数の階乗を計算する**再帰的**関数を作成してみましょう。"
   ]
  },
  {
   "cell_type": "code",
   "execution_count": 7,
   "id": "091df2e4",
   "metadata": {},
   "outputs": [],
   "source": [
    "### EXERCICE\n"
   ]
  },
  {
   "cell_type": "markdown",
   "id": "abc152b2",
   "metadata": {},
   "source": [
    "## Tic-Tac-Toe\n",
    "\n",
    "Tic-Tac-Toe is a paper-and-pencil game for two players who take turns marking the spaces in a three-by-three grid with X or O. The player who succeeds in placing three of their marks in a horizontal, vertical, or diagonal row is the winner. Obviously, we can make this game using Python...\n",
    "\n",
    "Tic-Tac-Toeは、2人のプレーヤーが交互に3×3のマス目に○か×をつけ、横、縦、斜めに3つ並べることに成功したプレーヤーが勝者となる紙と鉛筆ベースのゲームです。もちろん、このゲームはPythonを使って作ることができます。"
   ]
  },
  {
   "cell_type": "code",
   "execution_count": 8,
   "id": "d735c40a",
   "metadata": {},
   "outputs": [
    {
     "name": "stdout",
     "output_type": "stream",
     "text": [
      "   |   |   \n",
      "---+---+---\n",
      "   |   |   \n",
      "---+---+---\n",
      "   |   |   \n",
      "> Player X. Select a case between 1 and 9.\n",
      "1\n",
      " X |   |   \n",
      "---+---+---\n",
      "   |   |   \n",
      "---+---+---\n",
      "   |   |   \n",
      "> Player O. Select a case between 1 and 9.\n",
      "2\n",
      " X | O |   \n",
      "---+---+---\n",
      "   |   |   \n",
      "---+---+---\n",
      "   |   |   \n",
      "> Player X. Select a case between 1 and 9.\n",
      "4\n",
      " X | O |   \n",
      "---+---+---\n",
      " X |   |   \n",
      "---+---+---\n",
      "   |   |   \n",
      "> Player O. Select a case between 1 and 9.\n",
      "3\n",
      " X | O | O \n",
      "---+---+---\n",
      " X |   |   \n",
      "---+---+---\n",
      "   |   |   \n",
      "> Player X. Select a case between 1 and 9.\n",
      "7\n",
      " X | O | O \n",
      "---+---+---\n",
      " X |   |   \n",
      "---+---+---\n",
      " X |   |   \n",
      "* End : Player X won. *\n"
     ]
    }
   ],
   "source": [
    "table = [\" \" for _ in range(9)]  # create an empty 3x3 table\n",
    "\n",
    "\n",
    "def show_table(p, winner=None):\n",
    "    print(\" \" + p[0] + \" | \" + p[1] + \" | \" + p[2] + \" \")\n",
    "    print(\"---+---+---\")\n",
    "    print(\" \" + p[3] + \" | \" + p[4] + \" | \" + p[5] + \" \")\n",
    "    print(\"---+---+---\")\n",
    "    print(\" \" + p[6] + \" | \" + p[7] + \" | \" + p[8] + \" \")\n",
    "    if winner:\n",
    "        print(\"\"\"* End : Player {0} won. *\"\"\".format(winner))\n",
    "\n",
    "\n",
    "def tic_tac_toe():\n",
    "    player = \"X\"\n",
    "    step = 0\n",
    "\n",
    "    while True:\n",
    "        show_table(table)\n",
    "        print(\"> Player \" + player + \". Select a case between 1 and 9.\")\n",
    "\n",
    "        move = int(input()) - 1\n",
    "\n",
    "        if table[move] == \" \":\n",
    "            table[move] = player\n",
    "            step += 1\n",
    "        else:\n",
    "            print(\"! This case is not empty, please select another one\")\n",
    "            continue \n",
    "\n",
    "        if table[0] == table[1] == table[2] != \" \" \\\n",
    "        or table[3] == table[4] == table[5] != \" \" \\\n",
    "        or table[6] == table[7] == table[8] != \" \" \\\n",
    "        or table[0] == table[3] == table[6] != \" \" \\\n",
    "        or table[1] == table[4] == table[7] != \" \" \\\n",
    "        or table[2] == table[5] == table[8] != \" \" \\\n",
    "        or table[0] == table[4] == table[8] != \" \" \\\n",
    "        or table[2] == table[4] == table[6] != \" \":\n",
    "            show_table(table, player)\n",
    "            break\n",
    "\n",
    "        if step == 9:\n",
    "            print(\"Draw\")\n",
    "            break\n",
    "\n",
    "        player = \"O\" if player == \"X\" else \"X\"  # To change the one playing\n",
    "\n",
    "\n",
    "tic_tac_toe()"
   ]
  },
  {
   "cell_type": "markdown",
   "id": "56838a48",
   "metadata": {},
   "source": [
    "## Estimating the value of Pi using Monte Carlo / モンテカルロ法による円周率の推定"
   ]
  },
  {
   "attachments": {
    "image-2.png": {
     "image/png": "[encoded data removed]"
    }
   },
   "cell_type": "markdown",
   "id": "3b4a8de1",
   "metadata": {},
   "source": [
    "Monte Carlo simulations are used to model the probability of different outcomes in a process that cannot easily be predicted due to the intervention of random variables. One classical problem to get introduced to Monte Carlo methods is **the estimation of π**.\n",
    "\n",
    "モンテカルロ・シミュレーションは、確率変数の介在により容易に予測できないプロセスにおいて、異なる結果が生じる確率をモデル化するために使用されます。モンテカルロ法を導入する際の古典的な問題の一つに、**π**の推定があります。\n",
    "\n",
    "The idea is to simulate random (x, y) points in a 2-D plane with domain as a square of side 1 unit. Imagine a circle inside the same domain with same diameter and inscribed into the square. We then calculate the ratio of number points that lied inside the circle and total number of generated points.\n",
    "\n",
    "一辺が1単位の正方形を領域とする2次元平面上のランダムな(x, y)点をシミュレートします。同じ領域内に、同じ直径で正方形に内接する円を想像してください。そして、円の内側にある点の数と生成された点の総数の比を計算します。\n",
    "\n",
    "![image-2.png](attachment:image-2.png)\n",
    "\n",
    "We know that area of the square is 1 unit sq while that of circle is $\\pi * (1/2)² = \\pi/4$.\n",
    "Now for a very large number of generated points, $\\frac {area  of  the  circle}{area  of  the  square} = \\frac {no.    of    points    inside    the    circle}{no.    of    points    inside    the    square}$ that is: $\\pi = 4*\\frac {no.    of    points    inside    the    circle}{no.    of    points    inside    the    square}$\n",
    "\n",
    "正方形の面積は1単位平方、円の面積は$¥pi * (1/2)² =¥π/4$であることが分かります。\n",
    "ここで、生成される点の数が非常に多い場合、$\\frac {area of the circle}{area of the square} = \\frac {no. of points inside the circle}{no. of points inside the square}$ つまり $\\pi = 4*\\frac {no. of points inside the circle}{no. of points inside the square}$ であることが分かります。\n",
    "\n",
    "The beauty of this algorithm is that we don’t need any graphics or simulation to display the generated points. We simply generate random (x, y) pairs and then check if $x² + y² \\leq 1$\n",
    "\n",
    "このアルゴリズムの優れた点は、生成された点を表示するためにグラフィックやシミュレーションを必要としないことです。ランダムに(x, y)の組を生成し、$x² + y² \\leq 1$ かどうかをチェックするだけです。\n",
    "\n"
   ]
  },
  {
   "cell_type": "code",
   "execution_count": 9,
   "id": "9f66a532",
   "metadata": {},
   "outputs": [],
   "source": [
    "from random import random\n",
    "def is_in():\n",
    "    a = random() # Select a random number between 0 and 1\n",
    "    b = random()\n",
    "    x = -1 + 2 * a # X-axis between -1 and 1\n",
    "    y = -1 + 2 * b # Y-axis between -1 and 1\n",
    "    \n",
    "    d = x**2 + y**2  # distance\n",
    "    if d <= 1: # if M=(x,y) is inside the circle\n",
    "        return 1\n",
    "    else:     \n",
    "        return 0"
   ]
  },
  {
   "cell_type": "markdown",
   "id": "221d76ea",
   "metadata": {},
   "source": [
    "We have made a function `is_in()` which checks if a generated point is in the circle (if yes, it returns `1`, else `0`).\n",
    "ここでは、生成された点が円内にあるかどうかをチェックする関数 `is_in()` を作成しました (yes ならば `1`、さもなくば `0` を返す)。\n",
    "\n",
    "Now, we generate a big number of points and we check how many are in the circle to estimate $\\pi$.\n",
    "ここで、大量の点を生成し、円の中に何個あるか調べて、$pi$を推定します。"
   ]
  },
  {
   "cell_type": "code",
   "execution_count": 10,
   "id": "d2927fe5",
   "metadata": {},
   "outputs": [
    {
     "name": "stdout",
     "output_type": "stream",
     "text": [
      "PI estimated value: 3.1407\n"
     ]
    }
   ],
   "source": [
    "N = 0 # Number of points in the circle\n",
    "f = 5000000\n",
    "for n in range(f):\n",
    "    N += is_in()\n",
    "print(\"PI estimated value: {}\".format(4 * N / f))"
   ]
  },
  {
   "cell_type": "markdown",
   "id": "74e02514",
   "metadata": {},
   "source": [
    "You can see that we have a pretty decent value for $\\pi$ , close to `3.14159`. Try to run the code above multiple times to notice that the $\\pi$ value always change: this is why it is an estimation. You can also change the value of `f` to see that the more we increase `f` the more our $\\pi$ value is precise. However, starting to a certain high value of `f`, this code is really too slow, and the value for $\\pi$ may not be more precise, as it is based on random. \n",
    "\n",
    "`3.14159`に近い、かなり適切な値の$pi$が得られていることがわかります。上のコードを何度も実行すると、常に $OPI$ の値が変化することに気づくでしょう。また、`f`の値を変えてみると、`f`を大きくすればするほど、$¥metapi$の値の精度が上がることが分かります。しかし、ある高い`f`の値から始めた場合、このコードは極めて低速で、なおかつランダムに基づいているため、$tecpi$の値はより正確ではないかもしれません。"
   ]
  }
 ],
 "metadata": {
  "kernelspec": {
   "display_name": "Python 3 (ipykernel)",
   "language": "python",
   "name": "python3"
  },
  "language_info": {
   "codemirror_mode": {
    "name": "ipython",
    "version": 3
   },
   "file_extension": ".py",
   "mimetype": "text/x-python",
   "name": "python",
   "nbconvert_exporter": "python",
   "pygments_lexer": "ipython3",
   "version": "3.9.7"
  }
 },
 "nbformat": 4,
 "nbformat_minor": 5
}
